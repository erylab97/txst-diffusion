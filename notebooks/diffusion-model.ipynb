{
 "cells": [
  {
   "cell_type": "markdown",
   "id": "4b89bd63-d084-4d88-ab88-0f87f3947a80",
   "metadata": {},
   "source": [
    "# A 1D diffusion model"
   ]
  },
  {
   "cell_type": "markdown",
   "id": "347d7dd1-e940-4eac-9035-50090a187eda",
   "metadata": {},
   "source": [
    "Here we develop a one-dimensional model of diffusion. It assumes constant diffusivity. \n",
    "It uses a regular grid.\n",
    "It has fixed boundary conditions."
   ]
  },
  {
   "cell_type": "markdown",
   "id": "5f43b295-a12d-4ac6-89ee-9e05a2013441",
   "metadata": {},
   "source": [
    "The diffusion equation:\n",
    "\n",
    "$$ \\frac{\\partial C}{\\partial t} = D\\frac{\\partial^2 C}{\\partial x^2} $$\n",
    "The discretized version of the diffusion equation that we'll solve with our model:\n",
    "$$ C^{t+1}_x = C^t_x + {D \\Delta t \\over \\Delta x^2} (C^t_{x+1} - 2C^t_x + C^t_{x-1}) $$\n",
    "\n",
    "This is the explicit FTCS scheme as described in Slingerland and Kump (2011). (Or see Wikipedia.)"
   ]
  },
  {
   "cell_type": "markdown",
   "id": "08bc72b6-8963-4091-b14e-dd8986010ad0",
   "metadata": {},
   "source": [
    "We will use two libraries, Numpy (for arrays) and Matplotlib (for plotting) that aren't a part of the base Python distribution."
   ]
  },
  {
   "cell_type": "code",
   "execution_count": 1,
   "id": "4f365f9b-fd85-4524-82b8-2fc72e7d3ab4",
   "metadata": {},
   "outputs": [],
   "source": [
    "import numpy as np"
   ]
  },
  {
   "cell_type": "code",
   "execution_count": 2,
   "id": "644a13e4-e17c-466b-a234-4bbe7cb0c3a9",
   "metadata": {},
   "outputs": [],
   "source": [
    "import matplotlib.pyplot as plt"
   ]
  },
  {
   "cell_type": "markdown",
   "id": "092c908e-c3d0-424e-a211-9383576d2cb2",
   "metadata": {},
   "source": [
    "Set two fixed model paramters, the diffusivity and the size of the model domain."
   ]
  },
  {
   "cell_type": "code",
   "execution_count": 3,
   "id": "46018ec6-5489-43fe-9035-61dea26b0bbd",
   "metadata": {},
   "outputs": [],
   "source": [
    "D = 100\n",
    "Lx = 300"
   ]
  },
  {
   "cell_type": "markdown",
   "id": "6b11a7b0-44db-4889-8d38-b16ce2337d92",
   "metadata": {},
   "source": [
    "Next, set up the model grid using a NumPy array."
   ]
  },
  {
   "cell_type": "code",
   "execution_count": 8,
   "id": "d40376a6-e1f8-4bf7-8607-344defd0a99e",
   "metadata": {},
   "outputs": [],
   "source": [
    "dx = 0.5\n",
    "x = np.arange(start=0,stop=Lx,step=dx)\n",
    "nx = len(x)\n",
    "#this creates the grid space"
   ]
  },
  {
   "cell_type": "code",
   "execution_count": 6,
   "id": "9392a672-1e1c-4894-acc1-bc09b97a36c0",
   "metadata": {
    "scrolled": true
   },
   "outputs": [
    {
     "name": "stdout",
     "output_type": "stream",
     "text": [
      "Variable   Type       Data/Info\n",
      "-------------------------------\n",
      "D          int        100\n",
      "Lx         int        300\n",
      "dx         float      0.5\n",
      "np         module     <module 'numpy' from '/op<...>kages/numpy/__init__.py'>\n",
      "nx         int        600\n",
      "plt        module     <module 'matplotlib.pyplo<...>es/matplotlib/pyplot.py'>\n",
      "x          ndarray    600: 600 elems, type `float64`, 4800 bytes\n"
     ]
    }
   ],
   "source": [
    "whos"
   ]
  },
  {
   "cell_type": "code",
   "execution_count": 9,
   "id": "1a0f5971-e517-4359-9781-26d3f7486949",
   "metadata": {},
   "outputs": [
    {
     "data": {
      "text/plain": [
       "np.float64(0.0)"
      ]
     },
     "execution_count": 9,
     "metadata": {},
     "output_type": "execute_result"
    }
   ],
   "source": [
    "#subscripting an array\n",
    "#first element of array, start counting at zero\n",
    "x[0]"
   ]
  },
  {
   "cell_type": "code",
   "execution_count": 11,
   "id": "3e36dffb-b5c2-41d4-9e6a-23ccab762ee8",
   "metadata": {},
   "outputs": [
    {
     "data": {
      "text/plain": [
       "np.float64(299.5)"
      ]
     },
     "execution_count": 11,
     "metadata": {},
     "output_type": "execute_result"
    }
   ],
   "source": [
    "x[nx-1] #starts counting at zero"
   ]
  },
  {
   "cell_type": "code",
   "execution_count": 12,
   "id": "0ee2d90e-5912-4452-9819-a9c583c693b0",
   "metadata": {},
   "outputs": [
    {
     "data": {
      "text/plain": [
       "np.float64(299.5)"
      ]
     },
     "execution_count": 12,
     "metadata": {},
     "output_type": "execute_result"
    }
   ],
   "source": [
    "x[-1]"
   ]
  },
  {
   "cell_type": "code",
   "execution_count": 14,
   "id": "252d176e-5565-4344-8967-1a8837ffdbef",
   "metadata": {},
   "outputs": [
    {
     "data": {
      "text/plain": [
       "array([0. , 0.5, 1. , 1.5, 2. ])"
      ]
     },
     "execution_count": 14,
     "metadata": {},
     "output_type": "execute_result"
    }
   ],
   "source": [
    "x[0:5]"
   ]
  },
  {
   "cell_type": "markdown",
   "id": "732fc61d-91c9-4123-9ed7-673ec2095f83",
   "metadata": {},
   "source": [
    "Set the initial concentration profile for the model. \n",
    "The concentration `C` is a step function\n",
    "with a high value on the left,\n",
    "a low value on the right,\n",
    "and the step at the center of the domain."
   ]
  },
  {
   "cell_type": "code",
   "execution_count": 17,
   "id": "4dbdb0a3-9e75-40cd-8247-89468fb219fc",
   "metadata": {},
   "outputs": [],
   "source": [
    "C = np.zeros_like(x) #zeros func makes an array of \n",
    "#zeros, zeros_like func makes an array of zeros that is \n",
    "#like another array\n",
    "C_left = 500\n",
    "C_right = 0\n",
    "C[x <= Lx//2] = C_left\n",
    "C[x > Lx//2] = C_right"
   ]
  },
  {
   "cell_type": "markdown",
   "id": "b627cefe-6909-4973-82b2-04d5956dcb4d",
   "metadata": {},
   "source": [
    "Plot the initial profile."
   ]
  },
  {
   "cell_type": "code",
   "execution_count": 18,
   "id": "a0647a56-4833-4b72-993a-ba02e3ee3c87",
   "metadata": {},
   "outputs": [
    {
     "data": {
      "text/plain": [
       "Text(0.5, 1.0, 'Initial concentration profile')"
      ]
     },
     "execution_count": 18,
     "metadata": {},
     "output_type": "execute_result"
    },
    {
     "data": {
      "image/png": "[encoded data removed]",
      "text/plain": [
       "<Figure size 640x480 with 1 Axes>"
      ]
     },
     "metadata": {},
     "output_type": "display_data"
    }
   ],
   "source": [
    "plt.figure()\n",
    "plt.plot(x, C, \"r\")\n",
    "plt.xlabel(\"x\")\n",
    "plt.ylabel(\"C\")\n",
    "plt.title(\"Initial concentration profile\")"
   ]
  },
  {
   "cell_type": "markdown",
   "id": "b4b4236b-cb83-4d96-9ec3-caea6378f77d",
   "metadata": {},
   "source": [
    "Set the start time of the model and the number of time steps. Calculate a stable time step for the model using a stability criterion."
   ]
  },
  {
   "cell_type": "code",
   "execution_count": 21,
   "id": "c7173f0e-82ef-40ff-bdb7-3bf3c5883f5e",
   "metadata": {},
   "outputs": [],
   "source": [
    "time = 0\n",
    "nt = 5000\n",
    "dt = 0.5 * (dx**2 / D) #** is a power (squared)"
   ]
  },
  {
   "cell_type": "code",
   "execution_count": 22,
   "id": "5d36ed1f-ef82-4e38-9052-0b9dbdb633f2",
   "metadata": {},
   "outputs": [
    {
     "data": {
      "text/plain": [
       "0.00125"
      ]
     },
     "execution_count": 22,
     "metadata": {},
     "output_type": "execute_result"
    }
   ],
   "source": [
    "dt"
   ]
  },
  {
   "cell_type": "markdown",
   "id": "e0895361-3304-441e-ad26-8e2790792ad5",
   "metadata": {},
   "source": [
    "Loop over the time steps of the model, solving the diffusion equation using the FTCS explicity scheme described above.\n",
    "The boundary conditions are fixed, so reset them at each time step."
   ]
  },
  {
   "cell_type": "code",
   "execution_count": 28,
   "id": "46088df7-462a-4328-aaa3-656dfbf385d0",
   "metadata": {},
   "outputs": [],
   "source": [
    "for t in range(0, nt): #this is a for loop which executes a statement or group of statements a set number of times. \n",
    "    C += D * dt / dx**2 * (np.roll(C, -1) - 2*C + np.roll(C,1))\n",
    "    #D = 100, Lx = 300, dx = 0.5, \n",
    "    #dt = 0.5 x dx (0.5)^2 / D (100)\n",
    "    #C = empty array made to look like x (+= initial value of C + function)\n",
    "    #np.roll shifts to right or left (-1 = left, 1 = right)\n",
    "    C[0] = C_left\n",
    "    C[-1] = C_right"
   ]
  },
  {
   "cell_type": "markdown",
   "id": "f1efc5d0-16d6-4b71-8063-19a28dce04cd",
   "metadata": {},
   "source": [
    "Plot the result"
   ]
  },
  {
   "cell_type": "code",
   "execution_count": 24,
   "id": "e3bd8c77-8ed7-4400-b4e7-672c7c1b36b4",
   "metadata": {},
   "outputs": [
    {
     "data": {
      "text/plain": [
       "Text(0.5, 1.0, 'Final concentration profile')"
      ]
     },
     "execution_count": 24,
     "metadata": {},
     "output_type": "execute_result"
    },
    {
     "data": {
      "image/png": "[encoded data removed]",
      "text/plain": [
       "<Figure size 640x480 with 1 Axes>"
      ]
     },
     "metadata": {},
     "output_type": "display_data"
    }
   ],
   "source": [
    "plt.figure()\n",
    "plt.plot(x, C, \"b\")\n",
    "plt.xlabel(\"X\")\n",
    "plt.ylabel(\"C\")\n",
    "plt.title(\"Final concentration profile\")"
   ]
  },
  {
   "cell_type": "code",
   "execution_count": 25,
   "id": "c1695f5a-73a3-4052-bd88-5e38898b2341",
   "metadata": {},
   "outputs": [
    {
     "data": {
      "text/plain": [
       "array([0, 1, 2, 3, 4])"
      ]
     },
     "execution_count": 25,
     "metadata": {},
     "output_type": "execute_result"
    }
   ],
   "source": [
    "z = np.arange(5)\n",
    "z"
   ]
  },
  {
   "cell_type": "code",
   "execution_count": 26,
   "id": "deff3253-5a2f-4527-91a2-30cc9e551ee3",
   "metadata": {},
   "outputs": [
    {
     "data": {
      "text/plain": [
       "array([1, 2, 3, 4, 0])"
      ]
     },
     "execution_count": 26,
     "metadata": {},
     "output_type": "execute_result"
    }
   ],
   "source": [
    "np.roll(z, -1)"
   ]
  },
  {
   "cell_type": "code",
   "execution_count": 27,
   "id": "611ee829-b2db-4432-838e-9e582a3f219d",
   "metadata": {},
   "outputs": [
    {
     "data": {
      "text/plain": [
       "array([4, 0, 1, 2, 3])"
      ]
     },
     "execution_count": 27,
     "metadata": {},
     "output_type": "execute_result"
    }
   ],
   "source": [
    "np.roll(z, 1)"
   ]
  },
  {
   "cell_type": "code",
   "execution_count": null,
   "id": "7e4fbcec-a877-4dac-bf1b-519bb59b7865",
   "metadata": {},
   "outputs": [],
   "source": []
  }
 ],
 "metadata": {
  "kernelspec": {
   "display_name": "CSDMS",
   "language": "python",
   "name": "csdms"
  },
  "language_info": {
   "codemirror_mode": {
    "name": "ipython",
    "version": 3
   },
   "file_extension": ".py",
   "mimetype": "text/x-python",
   "name": "python",
   "nbconvert_exporter": "python",
   "pygments_lexer": "ipython3",
   "version": "3.12.7"
  }
 },
 "nbformat": 4,
 "nbformat_minor": 5
}
